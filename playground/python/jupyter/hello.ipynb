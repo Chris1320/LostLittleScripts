{
 "cells": [
  {
   "cell_type": "markdown",
   "metadata": {},
   "source": [
    "This is my first Jupyter Notebook."
   ]
  },
  {
   "cell_type": "code",
   "execution_count": null,
   "metadata": {},
   "outputs": [],
   "source": [
    "wl = [89, 106, 113]\n",
    "l = [84, 104, 111, 114, 115, 117, 118]\n",
    "c = [[0, 1, 2, 1, 4], [3, 6], [5, 1]]\n",
    "\n",
    "while True:\n",
    "    try:\n",
    "        n: int = int(input(\"Enter Ther day: \"))\n",
    "        if n < 0 or n > 31:\n",
    "            print(\"Enter a valid number\")\n",
    "            continue\n",
    "\n",
    "        break\n",
    "\n",
    "    except ValueError:\n",
    "        print(\"Enter a valid number\")\n",
    "        continue\n",
    "\n",
    "for x, w in enumerate(wl):\n",
    "    d = 0\n",
    "    while d < w - l[x]:\n",
    "        print(chr(l[c[x][d]] - n), end=\"\")\n",
    "        d += 1\n",
    "\n",
    "    print(end=\" \")"
   ]
  }
 ],
 "metadata": {
  "kernelspec": {
   "display_name": "Python 3 (ipykernel)",
   "language": "python",
   "name": "python3"
  },
  "language_info": {
   "codemirror_mode": {
    "name": "ipython",
    "version": 3
   },
   "file_extension": ".py",
   "mimetype": "text/x-python",
   "name": "python",
   "nbconvert_exporter": "python",
   "pygments_lexer": "ipython3",
   "version": "3.12.3"
  }
 },
 "nbformat": 4,
 "nbformat_minor": 2
}
